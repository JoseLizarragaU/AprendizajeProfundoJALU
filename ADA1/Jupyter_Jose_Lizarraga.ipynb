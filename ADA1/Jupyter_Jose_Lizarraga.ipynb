{
 "cells": [
  {
   "cell_type": "markdown",
   "id": "fa4d2c61",
   "metadata": {},
   "source": [
    "# Ejemplo de notebook Jupyter\n",
    "\n",
    "## 1. Cargar los datos"
   ]
  },
  {
   "cell_type": "code",
   "execution_count": 8,
   "id": "d1ef864a",
   "metadata": {},
   "outputs": [],
   "source": [
    "# Cargar las biblioteca Pandas con el alias 'pd’\n",
    "# Cargar las biblioteca Matplotlib con el alias ‘plt’\n",
    "import matplotlib.pyplot as plt\n",
    "import pandas as pd\n",
    "import numpy as np"
   ]
  },
  {
   "attachments": {},
   "cell_type": "markdown",
   "id": "c7eaf0d2",
   "metadata": {},
   "source": [
    "En este notebook se utilizará la gráfica del porcentaje de población con desorden en salud mental, de 1990 a 2019, en México. \n",
    "*Fuente:* https://ourworldindata.org/mental-health\n",
    "![Share of population with mental health disorders, 1990 to 2019](figures/mental-health.png) "
   ]
  },
  {
   "attachments": {},
   "cell_type": "markdown",
   "id": "043c03b6",
   "metadata": {},
   "source": [
    "En este notebook se utilizará la gráfica del porcentaje de población con desorden en salud mental, de 1990 a 2019, en México. \n",
    "*Fuente:* https://ourworldindata.org/mental-health\n",
    "<iframe src=\"https://ourworldindata.org/grapher/share-with-mental-and-substance-disorders?tab=chart&time=earliest..2019&country=~MEX\" loading=\"lazy\" style=\"width: 100%; height: 600px; border: 0px none;\"></iframe>"
   ]
  },
  {
   "cell_type": "code",
   "execution_count": 3,
   "id": "bb3badac",
   "metadata": {},
   "outputs": [],
   "source": [
    "# Leer datos del archivo datos.csv\n",
    "data = pd.read_csv('data/datos.csv')"
   ]
  },
  {
   "cell_type": "code",
   "execution_count": 5,
   "id": "9ee8f718",
   "metadata": {},
   "outputs": [
    {
     "name": "stdout",
     "output_type": "stream",
     "text": [
      "        Entity Code  Year  \\\n",
      "0  Afghanistan  AFG  1990   \n",
      "1  Afghanistan  AFG  1991   \n",
      "2  Afghanistan  AFG  1992   \n",
      "3  Afghanistan  AFG  1993   \n",
      "4  Afghanistan  AFG  1994   \n",
      "\n",
      "   Prevalence - Mental disorders - Sex: Both - Age: Age-standardized (Percent)  \n",
      "0                                              16.66                            \n",
      "1                                              16.77                            \n",
      "2                                              16.87                            \n",
      "3                                              16.99                            \n",
      "4                                              17.11                            \n",
      "Index(['Entity', 'Code', 'Year',\n",
      "       'Prevalence - Mental disorders - Sex: Both - Age: Age-standardized (Percent)'],\n",
      "      dtype='object')\n"
     ]
    }
   ],
   "source": [
    "# Vista previa de las primeras 5 líneas de los datos cargados\n",
    "print(data.head ())\n",
    "print(data.columns)"
   ]
  },
  {
   "cell_type": "code",
   "execution_count": 6,
   "id": "8f8c8435",
   "metadata": {},
   "outputs": [
    {
     "name": "stdout",
     "output_type": "stream",
     "text": [
      "      Year  Percentage\n",
      "3602  1990       10.96\n",
      "3603  1991       10.98\n",
      "3604  1992       11.01\n",
      "3605  1993       11.03\n",
      "3606  1994       11.05\n"
     ]
    }
   ],
   "source": [
    "# Limpieza de datos\n",
    "countryMask = data['Entity'] == 'Mexico'\n",
    "df = data[countryMask][['Year','Prevalence - Mental disorders - Sex: Both - Age: Age-standardized (Percent)']]\n",
    "df.rename(columns={'Prevalence - Mental disorders - Sex: Both - Age: Age-standardized (Percent)':'Percentage'},inplace=True)\n",
    "print(df.head())"
   ]
  },
  {
   "cell_type": "code",
   "execution_count": 85,
   "id": "603f8cb1",
   "metadata": {},
   "outputs": [
    {
     "data": {
      "image/png": "[encoded data removed]",
      "text/plain": [
       "<Figure size 1008x432 with 1 Axes>"
      ]
     },
     "metadata": {
      "needs_background": "light"
     },
     "output_type": "display_data"
    }
   ],
   "source": [
    "#Graficamos las variables\n",
    "fig, ax = plt.subplots(figsize=(14,6))\n",
    "ax.plot(df['Year'],df['Percentage'],color='brown',marker='o',label='Mexico')\n",
    "\n",
    "ax.set_title('Share of population with mental health disorders, 1990 to 2019')\n",
    "\n",
    "## Eje Y\n",
    "ax.set_ylim(0,13)\n",
    "ax.set_yticks(np.arange(0,14,2))\n",
    "vals = ax.get_yticks()/100\n",
    "ax.set_yticklabels(['{:,.0%}'.format(x) for x in vals])\n",
    "\n",
    "## Eje X\n",
    "ax.set_xlim(1989.9,2019.1)\n",
    "years = np.arange(1990,2020,5).tolist()\n",
    "years.append(2019)\n",
    "ax.set_xticks(years)\n",
    "\n",
    "## Detalles de grafica\n",
    "ax.grid(linestyle='--',axis='y')\n",
    "ax.spines[['top','left','right']].set_visible(False)\n",
    "\n",
    "plt.legend()\n",
    "plt.show()"
   ]
  }
 ],
 "metadata": {
  "kernelspec": {
   "display_name": "Python 3",
   "language": "python",
   "name": "python3"
  },
  "language_info": {
   "codemirror_mode": {
    "name": "ipython",
    "version": 3
   },
   "file_extension": ".py",
   "mimetype": "text/x-python",
   "name": "python",
   "nbconvert_exporter": "python",
   "pygments_lexer": "ipython3",
   "version": "3.10.6"
  },
  "vscode": {
   "interpreter": {
    "hash": "7056bcd1ca523a33a69209e546477c5f9c9add4e357cb01551787fdfcdbe6953"
   }
  }
 },
 "nbformat": 4,
 "nbformat_minor": 5
}
